{
 "cells": [
  {
   "cell_type": "markdown",
   "metadata": {},
   "source": [
    "# Практическое задание для пересдачи зачёта по курсу \"Методы оптимизации\"\n",
    "\n",
    "Дедлайн по отправке - 02:00 18 февраля. \n",
    "\n",
    "Задание выполняется в этом же Jupyter Notebook'e и присылается мне на почту до указанного срока."
   ]
  },
  {
   "cell_type": "markdown",
   "metadata": {},
   "source": [
    "## Задача\n",
    "\n",
    "### Управление посадкой космического корабля\n",
    "\n",
    "В данной задаче вам предлагается поставить две задачи, связанные с посадкой ракеты.\n",
    "Первая задача про то, как сэкономить топливо, вторая - про то как совершить посадку максимально быстро.\n",
    "Про то, как идеи из этой задачи реализуются см. [тут](https://www.youtube.com/watch?v=2t15vP1PyoA)\n",
    "\n",
    "В данной задаче предполагаем, что динамика челнока описывается вторым законом Ньютона\n",
    "\n",
    "$$\n",
    "mx''(t) = f(t) - mge_3,\n",
    "$$\n",
    "\n",
    "где $e_3$ - вектор $(0, 0, 1)$, $m$ - масса, предполагаем, что постоянная (отказ от этого предположения приводит к более сложной динамике), $f(t)$ - сила тяги, которую можно регулировать, $x''(t)$ - ускорение.\n",
    "Также не учитываем влияние атмосферы.\n",
    "Это уравнение векторное, то есть $x(t)$ и $f(t)$ - это трёхмерные векторы в каждый момент времени. "
   ]
  },
  {
   "cell_type": "markdown",
   "metadata": {},
   "source": [
    "#### Уравнения динамики получаем после дискретизации основного уравнения динамики\n",
    "\n",
    "Для скорости получим\n",
    "\n",
    "$$\n",
    "m\\frac{v_{k+1} - v_k}{h} = f_k - mge_3, \\quad v_{k+1} = v_k + \\frac{h}{m} f_k - hge_3\n",
    "$$\n",
    "\n",
    "аналогично для координат\n",
    "\n",
    "$$\n",
    "x' = v \\quad x_{k+1} = x_k + \\frac{h}{2}(v_k + v_{k+1})\n",
    "$$\n",
    "\n",
    "Точка посадки имеет координаты $(0, 0, 0)$ и для успешной посадки необходима нулевая скорость в момент посадки. Также в процессе посадки необходимо чтобы челнок не \"сваливался\", то есть значение координаты по высоте было больше своей проекции на плоскость $(x, y)$ в заданное число раз, то есть\n",
    "\n",
    "$$\n",
    "x_3(t) \\geq \\alpha \\| (x_1(t), x_2(t)) \\|_2.\n",
    "$$\n",
    "\n",
    "Поскольку сила тяги создаётся двигателем, который преобразует топливо, поэтому есть некоторая максимальная сила тяги, доступная кораблю, то есть\n",
    "\n",
    "$$\n",
    "\\|f(t)\\|_2 \\leq F_{\\max}.\n",
    "$$\n",
    "\n",
    "Также объём потребляемого топлива для развития силы $f(t)$ можно вычислить по формуле\n",
    "\n",
    "$$\n",
    "\\gamma \\int_0^T \\|f(t)\\|_2 dt,\n",
    "$$\n",
    "\n",
    " где $\\gamma$ - коэффициент потребления топлива, $T$ - время посадки. \n",
    " \n",
    "При дискретизации по времени можно считать, что $f(t)$ постоянно на каждом интервале $[(k-1)h; kh]$ для $k=1,\\ldots,K$. Таким образом общее время посадки равно $Kh$. "
   ]
  },
  {
   "cell_type": "markdown",
   "metadata": {},
   "source": [
    "**Пункт 1**\n",
    "Найти положение, скорость и силу тяги в каждый момент времени такие что общее потребление топлива минимально\n",
    "\n",
    "1) (2 pts) Поставьте формально задачу оптимизации\n",
    "\n",
    "2) (3 pts) Решите её с помощью CVXPy и визуализируйте решение\n",
    "\n",
    "**Пункт 2**\n",
    "Определить минимальное время за которое можно посадить челнок, то есть при фиксированном шаге дискретизации по времени $h$, нужно найти минимальное финальное время, за которое можно привести корабль в финальную точку с финальной скоростью.\n",
    "Для решения этой задачи допускается решение нескольких вспомогательных задач.\n",
    "\n",
    "3) (5 pts) Поставьте формально задачу оптимизации\n",
    "\n",
    "4) (4 pts) Решите её с помощью CVXPy и визуализируйте решение. Сравните, полученную траекторию, с траекторией из пункта 1. \n",
    "Как сильно отсутствие требования по минимальности времени увеличивает объём потребления топлива?"
   ]
  },
  {
   "cell_type": "code",
   "execution_count": null,
   "metadata": {},
   "outputs": [],
   "source": [
    "import numpy as np\n",
    "import matplotlib.pyplot as plt\n",
    "from mpl_toolkits.mplot3d import Axes3D\n",
    "from matplotlib import cm\n",
    "%matplotlib inline\n",
    "import cvxpy as cvx\n",
    "\n",
    "# Time discretiztion step\n",
    "h = 1.\n",
    "# Gravity acceleration. It is just demo value to scale the solution time!\n",
    "g = 0.1\n",
    "# Mass\n",
    "m = 10.\n",
    "# Maximum norm of forse\n",
    "Fmax = 10.\n",
    "# Initial position\n",
    "p0 = np.array([50, 50, 100])\n",
    "# Initial velocity\n",
    "v0 = np.array([-10, 0, -10])\n",
    "# Factor of minimum slope\n",
    "alpha = 0.5\n",
    "# Fuel consumption factor\n",
    "gamma = 1.\n",
    "# Number of discretization steps, i.e. final time equals K*h\n",
    "K = 35"
   ]
  },
  {
   "cell_type": "code",
   "execution_count": null,
   "metadata": {},
   "outputs": [],
   "source": [
    "# Место для Вашего решения"
   ]
  },
  {
   "cell_type": "code",
   "execution_count": null,
   "metadata": {},
   "outputs": [],
   "source": [
    "# use the following code to plot your trajectories\n",
    "# and the glide cone (don't modify)\n",
    "# -------------------------------------------------------\n",
    "fig = plt.figure()\n",
    "ax = fig.gca(projection='3d')\n",
    "\n",
    "X = np.linspace(-40, 55, num=30)\n",
    "Y = np.linspace(0, 55, num=30)\n",
    "X, Y = np.meshgrid(X, Y)\n",
    "Z = alpha*np.sqrt(X**2+Y**2)\n",
    "ax.plot_surface(X, Y, Z, rstride=1, cstride=1, cmap=cm.coolwarm, linewidth=0)\n",
    "#Have your solution be stored in p, which meana positions\n",
    "# ax.plot(xs=p.value[0,:],ys=p.value[1,:],zs=p.value[2,:], c=\"red\")\n",
    "ax.set_xlabel('x'); ax.set_ylabel('y'); ax.set_zlabel('z')\n",
    "plt.tight_layout()"
   ]
  }
 ],
 "metadata": {
  "kernelspec": {
   "display_name": "Python 3 (cvxpy)",
   "language": "python",
   "name": "cvxpy"
  },
  "language_info": {
   "codemirror_mode": {
    "name": "ipython",
    "version": 3
   },
   "file_extension": ".py",
   "mimetype": "text/x-python",
   "name": "python",
   "nbconvert_exporter": "python",
   "pygments_lexer": "ipython3",
   "version": "3.6.8"
  }
 },
 "nbformat": 4,
 "nbformat_minor": 2
}
